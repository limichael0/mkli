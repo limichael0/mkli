{
 "cells": [
  {
   "cell_type": "markdown",
   "metadata": {},
   "source": [
    "# Generating training/testing data\n",
    "\n",
    "In this module, we generate the data, randomly sampling the Heston parameters. First we import some packages:"
   ]
  },
  {
   "cell_type": "code",
   "execution_count": 2,
   "metadata": {},
   "outputs": [],
   "source": [
    "import numpy as np\n",
    "import torch\n",
    "import torch.nn as nn\n",
    "import torch.nn.functional as F\n",
    "import QuantLib as ql\n",
    "import time\n",
    "\n",
    "import HestonUtils"
   ]
  },
  {
   "cell_type": "markdown",
   "metadata": {},
   "source": [
    "The function below generates data sampled from either a narrow or wide Heston range (the other observed parameters like $S$, $K$, $T$, $r$, and $q$ are drawn uniformly from the same range every time)."
   ]
  },
  {
   "cell_type": "code",
   "execution_count": 3,
   "metadata": {},
   "outputs": [],
   "source": [
    "def generateData(M=1000, data_type='NARROW', SAVE_DATA=False):\n",
    "    '''\n",
    "    M: number of data points to generate\n",
    "    data_type: either 'NARROW' or 'WIDE' depending on which sampling range we want to draw from\n",
    "    SAVE_DATA: True if we want to save the data in ./data (useful if generating large-sized data), false otherwise\n",
    "    '''\n",
    "    # observed parameters: S, K, T, r, q\n",
    "    Ss = np.random.uniform(low=0.5,high=1.5,size=M)\n",
    "    Ks = np.array([1]*M)\n",
    "    Ts = np.random.randint(low=1,high=365*2+1,size=M) / 365.\n",
    "    rs = np.random.uniform(low=0,high=0.05,size=M)\n",
    "    qs = np.random.uniform(low=0,high=0.05,size=M)\n",
    "    \n",
    "    # observe moneyness: S/K\n",
    "    observed_params = np.array([Ss/Ks, Ts, rs, qs]).T\n",
    "    \n",
    "    # Heston parameters: v_0, kappa, v_bar, sigma, rho\n",
    "    heston_params = np.zeros((M,5))\n",
    "    if 'NARROW' in data_type:\n",
    "        bounds = ((0, 0.5),\n",
    "                  (0, 3),\n",
    "                  (0, 0.5),\n",
    "                  (0, 1),\n",
    "                  (-0.9, 0))\n",
    "    else: # WIDE\n",
    "        bounds = ((0, 1),\n",
    "                  (0, 10),\n",
    "                  (0, 1),\n",
    "                  (0, 2),\n",
    "                  (-1, 0))\n",
    "    bounds = np.array(bounds)\n",
    "    \n",
    "    for m in range(M):\n",
    "        heston_params[m] = np.random.uniform(low=bounds[:,0], high=bounds[:,1])\n",
    "        \n",
    "        # Feller condition must be satisifed\n",
    "        while 2*heston_params[m,1]*heston_params[m,2] <= heston_params[m,3]**2:\n",
    "            heston_params[m] = np.random.uniform(low=bounds[:,0], high=bounds[:,1])\n",
    "    \n",
    "    # nn_parameters is what we will feed into our neural network\n",
    "    nn_parameters = np.hstack((observed_params[:,:2], heston_params, observed_params[:,2:]))\n",
    "    # ql_parameters is equivalent to nn_parameters but in a form that QuantLib takes\n",
    "    ql_parameters = HestonUtils.convertNNtoQLparams(nn_parameters)\n",
    "    \n",
    "    h_prices = np.array([HestonUtils.QuantlibHestonPrice(*ql_parameters[i]) for i in range(M)])\n",
    "    \n",
    "    if SAVE_DATA:\n",
    "        np.save(f'data/Heston_params_{data_type}.npy', nn_parameters)\n",
    "        np.save(f'data/Heston_target_{data_type}.npy', h_prices)\n",
    "        \n",
    "    return nn_parameters, h_prices"
   ]
  },
  {
   "cell_type": "markdown",
   "metadata": {},
   "source": [
    "An example of what the data will look like:"
   ]
  },
  {
   "cell_type": "code",
   "execution_count": 4,
   "metadata": {},
   "outputs": [
    {
     "name": "stdout",
     "output_type": "stream",
     "text": [
      "[[ 0.917022    0.69863014  0.14924765  1.33840352  0.11106227  0.07336417\n",
      "  -0.47768533  0.02286024  0.04148017]\n",
      " [ 1.22032449  0.98082192  0.04808613  2.7101105   0.05974523  0.52479938\n",
      "  -0.8247393   0.02153493  0.0136525 ]\n",
      " [ 0.50011437  1.28493151  0.45843067  2.73134515  0.14946506  0.58438912\n",
      "  -0.39067918  0.04695639  0.00296216]\n",
      " [ 0.80233257  0.69315068  0.30696916  2.86960697  0.13048949  0.23101542\n",
      "  -0.41989636  0.03891946  0.0335264 ]\n",
      " [ 0.64675589  1.34520548  0.47496907  1.47917878  0.27030025  0.7654851\n",
      "  -0.85918884  0.03579853  0.02965328]\n",
      " [ 0.59233859  1.83287671  0.22399009  2.67640762  0.18879217  0.53842469\n",
      "  -0.31293101  0.04013788  0.0335827 ]\n",
      " [ 0.68626021  1.09315068  0.18063051  1.71302568  0.31891824  0.12631489\n",
      "  -0.27881587  0.00464004  0.02058939]\n",
      " [ 0.84556073  1.54246575  0.3238747   1.06181727  0.38161653  0.35653172\n",
      "  -0.22249048  0.02590763  0.00987754]\n",
      " [ 0.89676747  1.59178082  0.44067091  0.03500758  0.24905453  0.07379201\n",
      "  -0.19174367  0.04325101  0.01448148]\n",
      " [ 1.03881673  0.59178082  0.03203366  1.06593109  0.47091847  0.37980329\n",
      "  -0.21337193  0.04145735  0.00710601]]\n",
      "[0.07315697 0.25819622 0.01666157 0.05541236 0.05100962 0.04003577\n",
      " 0.05483844 0.19335578 0.26315857 0.14785462]\n"
     ]
    }
   ],
   "source": [
    "np.random.seed(1)\n",
    "some_data = generateData(M=10, data_type='NARROW', SAVE_DATA=False)\n",
    "print(some_data[0])\n",
    "print(some_data[1])"
   ]
  }
 ],
 "metadata": {
  "kernelspec": {
   "display_name": "Python 3",
   "language": "python",
   "name": "python3"
  },
  "language_info": {
   "codemirror_mode": {
    "name": "ipython",
    "version": 3
   },
   "file_extension": ".py",
   "mimetype": "text/x-python",
   "name": "python",
   "nbconvert_exporter": "python",
   "pygments_lexer": "ipython3",
   "version": "3.8.1"
  }
 },
 "nbformat": 4,
 "nbformat_minor": 4
}
