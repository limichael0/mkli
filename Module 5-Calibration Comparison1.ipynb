{
 "cells": [
  {
   "cell_type": "code",
   "execution_count": 1,
   "metadata": {},
   "outputs": [
    {
     "name": "stdout",
     "output_type": "stream",
     "text": [
      "Running on GPU\n"
     ]
    }
   ],
   "source": [
    "import numpy as np\n",
    "import torch\n",
    "import torch.nn as nn\n",
    "import QuantLib as ql\n",
    "import time\n",
    "import pickle\n",
    "\n",
    "import matplotlib.pyplot as plt\n",
    "from scipy.optimize import differential_evolution\n",
    "from IPython import display\n",
    "\n",
    "import HestonUtils\n",
    "from HestonNN import Net\n",
    "\n",
    "%matplotlib inline\n",
    "plt.style.use('seaborn-whitegrid')\n",
    "plt.rcParams['figure.figsize'] = [15, 10]\n",
    "\n",
    "if torch.cuda.is_available():\n",
    "    device = torch.device('cuda:0')\n",
    "    print('Running on GPU')\n",
    "else:\n",
    "    device = torch.device('cpu')\n",
    "    print('Running on CPU')"
   ]
  },
  {
   "cell_type": "markdown",
   "metadata": {},
   "source": [
    "Loss functions that we want to minimize the 5 Heston parameters over:"
   ]
  },
  {
   "cell_type": "code",
   "execution_count": 51,
   "metadata": {},
   "outputs": [],
   "source": [
    "def nn_loss(x, observed_params, y_trues, net):\n",
    "    n = len(y_trues)\n",
    "    xs = np.array(list(x)*n).reshape(-1,5)\n",
    "    nn_params = np.hstack((observed_params[:,:2], xs, observed_params[:,2:]))\n",
    "    moneyness = nn_params[:,0]\n",
    "    nn_params = torch.Tensor(nn_params).float().to(device)\n",
    "    with torch.no_grad():\n",
    "        y_preds = net(nn_params).to('cpu').detach().numpy().flatten()\n",
    "    return np.mean((1/moneyness)**2*np.square(y_preds - y_trues))\n",
    "\n",
    "def ql_loss(x, observed_params, y_trues):\n",
    "    n = len(y_trues)\n",
    "    xs = np.array(list(x)*n).reshape(-1,5)\n",
    "    nn_params = np.hstack((observed_params[:,:2], xs, observed_params[:,2:]))\n",
    "    moneyness = nn_params[:,0]\n",
    "    ql_params = HestonUtils.convertNNtoQLparams(nn_params)\n",
    "    y_preds = np.array([HestonUtils.QuantlibHestonPrice(*ql_params[i]) for i in range(n)])\n",
    "    return np.mean((1/moneyness)**2*np.square(y_trues - y_preds))"
   ]
  },
  {
   "cell_type": "code",
   "execution_count": 36,
   "metadata": {},
   "outputs": [],
   "source": [
    "def nn_calibration(net, observed_params, observed_price, bounds):\n",
    "    res = differential_evolution(nn_loss, bounds=bounds, args=(observed_params, observed_price, net), \n",
    "                                 popsize=10, constraints=HestonUtils.feller_con, polish=False)\n",
    "    return res\n",
    "\n",
    "def ql_calibration(observed_params, observed_price, bounds):\n",
    "    res = differential_evolution(ql_loss, bounds=bounds, args=(observed_params, observed_price), \n",
    "                                 popsize=10, constraints=HestonUtils.feller_con, polish=False, maxiter=100)\n",
    "    return res"
   ]
  },
  {
   "cell_type": "code",
   "execution_count": 4,
   "metadata": {},
   "outputs": [],
   "source": [
    "narrow_net = torch.load('models/run_133')\n",
    "wide_net = torch.load('models/run_134')"
   ]
  },
  {
   "cell_type": "code",
   "execution_count": 5,
   "metadata": {},
   "outputs": [],
   "source": [
    "def calibrationComparison(net=None, data_type='NARROW', N=100, M=30, seed=0):\n",
    "    np.random.seed(seed)\n",
    "    \n",
    "    if data_type == 'NARROW':\n",
    "        bounds = ((0,0.5), (0,3), (0,0.5), (0,1), (-0.9,0))\n",
    "    else:\n",
    "        bounds = ((0,1), (0,10), (0,1), (0,2), (-1,0))\n",
    "    bounds = np.array(bounds)\n",
    "    \n",
    "    x_stars = np.zeros((N,5))\n",
    "    x_cals_nn = np.zeros((N,5))\n",
    "    fevs_nn = []\n",
    "    funs_nn = [] \n",
    "    times_nn = []\n",
    "    \n",
    "    x_cals_ql = np.zeros((N,5))\n",
    "    fevs_ql = []\n",
    "    funs_ql = []\n",
    "    times_ql = []\n",
    "    for i in range(N):\n",
    "        x_star = np.random.uniform(bounds[:,0], bounds[:,1])\n",
    "        while 2*x_star[1]*x_star[2] <= x_star[3]**2:\n",
    "            x_star = np.random.uniform(bounds[:,0], bounds[:,1])\n",
    "        x_stars[i] = x_star\n",
    "        Ss = np.random.uniform(low=0.5,high=1.5,size=M)\n",
    "        Ks = np.array([1.]*M)\n",
    "        moneyness = Ss / Ks\n",
    "        current_dates = np.array([ql.Date(1,1,2019)]*M)\n",
    "        Ts = np.random.randint(low=1,high=365*2+1,size=M)\n",
    "        maturity_dates = current_dates + Ts\n",
    "        Ts = Ts / 365\n",
    "        rs = np.array([0.0]*M) + np.random.uniform(low=0,high=0.05)\n",
    "        qs = np.array([0.0]*M) + np.random.uniform(low=0,high=0.05)\n",
    "        \n",
    "        observed_params = np.array([moneyness, Ts, rs, qs]).T\n",
    "        \n",
    "        y_trues = np.array([HestonUtils.QuantlibHestonPrice(Ss[i], Ks[i], current_dates[i], maturity_dates[i],\n",
    "                                                            *x_star, rs[i], qs[i]) for i in range(M)])\n",
    "        \n",
    "        time_start = time.time()\n",
    "        x_cal_nn = nn_calibration(net, observed_params, y_trues, bounds)\n",
    "        times_nn.append(time.time()-time_start)\n",
    "        \n",
    "        time_start = time.time()\n",
    "        x_cal_ql = ql_calibration(observed_params, y_trues, bounds)\n",
    "        times_ql.append(time.time()-time_start)\n",
    "        \n",
    "        x_cals_nn[i] = x_cal_nn.x\n",
    "        fevs_nn.append(x_cal_nn.nfev)\n",
    "        funs_nn.append(x_cal_nn.fun)\n",
    "        \n",
    "        x_cals_ql[i] = x_cal_ql.x\n",
    "        fevs_ql.append(x_cal_ql.nfev)\n",
    "        funs_ql.append(x_cal_ql.fun)\n",
    "    fevs_nn = np.array(fevs_nn).reshape(-1,1)\n",
    "    funs_nn = np.array(funs_nn).reshape(-1,1)\n",
    "    times_nn = np.array(times_nn).reshape(-1,1)\n",
    "    fevs_ql = np.array(fevs_ql).reshape(-1,1)\n",
    "    funs_ql = np.array(funs_ql).reshape(-1,1)\n",
    "    times_ql = np.array(times_ql).reshape(-1,1)\n",
    "    return x_stars, np.hstack((x_cals_nn, funs_nn, fevs_nn, times_nn)), np.hstack((x_cals_ql, funs_ql, fevs_ql, times_ql))"
   ]
  },
  {
   "cell_type": "code",
   "execution_count": 6,
   "metadata": {},
   "outputs": [],
   "source": [
    "# narrow = calibrationComparison(net=narrow_net, data_type='NARROW', N=200, M=30)"
   ]
  },
  {
   "cell_type": "code",
   "execution_count": 37,
   "metadata": {},
   "outputs": [],
   "source": [
    "def calibrationAnalysis(net=None, data_type='NARROW', N=100, M=30, seed=0):\n",
    "    np.random.seed(seed)\n",
    "    \n",
    "    if data_type == 'NARROW':\n",
    "        bounds = ((0,0.5), (0,3), (0,0.5), (0,1), (-0.9,0))\n",
    "    else:\n",
    "        bounds = ((0,1), (0,10), (0,1), (0,2), (-1,0))\n",
    "    bounds = np.array(bounds)\n",
    "    \n",
    "    x_stars = np.zeros((N,5))\n",
    "    x_cals_nn = np.zeros((N,5))\n",
    "    funs_nn = [] \n",
    "    times_nn = []\n",
    "    for i in range(N):\n",
    "        x_star = np.random.uniform(bounds[:,0], bounds[:,1])\n",
    "        while 2*x_star[1]*x_star[2] <= x_star[3]**2:\n",
    "            x_star = np.random.uniform(bounds[:,0], bounds[:,1])\n",
    "        x_stars[i] = x_star\n",
    "        Ss = np.random.uniform(low=0.5,high=1.5,size=M)\n",
    "        Ks = np.array([1.]*M)\n",
    "        moneyness = Ss / Ks\n",
    "        current_dates = np.array([ql.Date(1,1,2019)]*M)\n",
    "        Ts = np.random.randint(low=1,high=365*2+1,size=M)\n",
    "        maturity_dates = current_dates + Ts\n",
    "        Ts = Ts / 365\n",
    "        rs = np.array([0.0]*M) + np.random.uniform(low=0,high=0.05)\n",
    "        qs = np.array([0.0]*M) + np.random.uniform(low=0,high=0.05)\n",
    "        \n",
    "        observed_params = np.array([moneyness, Ts, rs, qs]).T\n",
    "        \n",
    "        y_trues = np.array([HestonUtils.QuantlibHestonPrice(Ss[i], Ks[i], current_dates[i], maturity_dates[i],\n",
    "                                                            *x_star, rs[i], qs[i]) for i in range(M)])\n",
    "        \n",
    "        time_start = time.time()\n",
    "        x_cal_nn = nn_calibration(net, observed_params, y_trues, bounds)\n",
    "        times_nn.append(time.time()-time_start)\n",
    "        \n",
    "        x_cals_nn[i] = x_cal_nn.x\n",
    "        funs_nn.append(x_cal_nn.fun)\n",
    "    funs_nn = np.array(funs_nn).reshape(-1,1)\n",
    "    times_nn = np.array(times_nn).reshape(-1,1)\n",
    "    return x_stars, np.hstack((x_cals_nn, funs_nn, times_nn))\n"
   ]
  },
  {
   "cell_type": "code",
   "execution_count": 38,
   "metadata": {},
   "outputs": [],
   "source": [
    "analysis_narrow = calibrationAnalysis(net=narrow_net, data_type='NARROW', N=1000, M=30, seed=1)"
   ]
  },
  {
   "cell_type": "code",
   "execution_count": 50,
   "metadata": {},
   "outputs": [
    {
     "name": "stdout",
     "output_type": "stream",
     "text": [
      "[0.0002156  0.01917351 0.00196022 0.00734577 0.03071672]\n",
      "[0.00022647 0.02046394 0.00189385 0.00880682 0.03717033]\n"
     ]
    }
   ],
   "source": [
    "a0 = np.load('results/calibration/narrow0.npy')\n",
    "a1 = np.load('results/calibration/narrow1.npy')\n",
    "a2 = np.load('results/calibration/narrow2.npy')\n",
    "a3 = np.load('results/calibration/narrow3.npy')\n",
    "\n",
    "error0 = a0 - a1[:,:5]\n",
    "error1 = a2 - a3[:,:5]\n",
    "\n",
    "print(np.mean(abs(error0), axis=0))\n",
    "print(np.mean(abs(error1), axis=0))\n"
   ]
  },
  {
   "cell_type": "code",
   "execution_count": 161,
   "metadata": {},
   "outputs": [],
   "source": [
    "def nn_loss_(x, observed_params, y_trues, net):  \n",
    "    n = len(y_trues)\n",
    "    xs = x.repeat(n).reshape(-1,5)\n",
    "    nn_params = torch.cat((observed_params[:,:2],xs, observed_params[:,2:]),axis=1).to(device)\n",
    "    moneyness = nn_params[:,0]\n",
    "    y_preds = net(nn_params).flatten()\n",
    "    error = torch.mean((1/moneyness)**2*(y_preds - y_trues)**2)\n",
    "    return error"
   ]
  },
  {
   "cell_type": "code",
   "execution_count": 168,
   "metadata": {
    "scrolled": false
   },
   "outputs": [],
   "source": [
    "def calibrationSensitivity(net=None, data_type='NARROW', N=100, M=30, seed=0):\n",
    "    np.random.seed(seed)\n",
    "    \n",
    "    if data_type == 'NARROW':\n",
    "        bounds = ((0,0.5), (0,3), (0,0.5), (0,1), (-0.9,0))\n",
    "    else:\n",
    "        bounds = ((0,1), (0,10), (0,1), (0,2), (-1,0))\n",
    "    bounds = np.array(bounds)\n",
    "    \n",
    "    x_stars = np.zeros((N,5))\n",
    "    x_cals_nn = np.zeros((N,5))\n",
    "    funs_nn = [] \n",
    "    times_nn = []\n",
    "    grads = []\n",
    "    for i in range(N):\n",
    "        x_star = np.random.uniform(bounds[:,0], bounds[:,1])\n",
    "        while 2*x_star[1]*x_star[2] <= x_star[3]**2:\n",
    "            x_star = np.random.uniform(bounds[:,0], bounds[:,1])\n",
    "        x_stars[i] = x_star\n",
    "        Ss = np.random.uniform(low=0.5,high=1.5,size=M)\n",
    "        Ks = np.array([1.]*M)\n",
    "        moneyness = Ss / Ks\n",
    "        current_dates = np.array([ql.Date(1,1,2019)]*M)\n",
    "        Ts = np.random.randint(low=1,high=365*2+1,size=M)\n",
    "        maturity_dates = current_dates + Ts\n",
    "        Ts = Ts / 365\n",
    "        rs = np.array([0.0]*M) + np.random.uniform(low=0,high=0.05)\n",
    "        qs = np.array([0.0]*M) + np.random.uniform(low=0,high=0.05)\n",
    "        \n",
    "        observed_params = np.array([moneyness, Ts, rs, qs]).T\n",
    "        \n",
    "        y_trues = np.array([HestonUtils.QuantlibHestonPrice(Ss[i], Ks[i], current_dates[i], maturity_dates[i],\n",
    "                                                            *x_star, rs[i], qs[i]) for i in range(M)])\n",
    "        \n",
    "        x_star_ = torch.Tensor(x_star).to(device)\n",
    "        observed_params_ = torch.Tensor(observed_params).to(device)\n",
    "        y_trues_ = torch.Tensor(y_trues).to(device)\n",
    "        x_star_.requires_grad = True\n",
    "        asdf = nn_loss_(x_star_, observed_params_, y_trues_, net)\n",
    "        grad_params = torch.autograd.grad(asdf, x_star_, create_graph=True)[0]\n",
    "        fdsa = np.zeros((5,5))\n",
    "        for j in range(5):\n",
    "            fdsa[j] = torch.autograd.grad(grad_params[j], x_star_, create_graph=True)[0].to('cpu').detach().numpy()\n",
    "        grads.append(np.diagonal(fdsa))\n",
    "        \n",
    "        time_start = time.time()\n",
    "        x_cal_nn = nn_calibration(net, observed_params, y_trues, bounds)\n",
    "        times_nn.append(time.time()-time_start)\n",
    "        \n",
    "        x_cals_nn[i] = x_cal_nn.x\n",
    "        funs_nn.append(x_cal_nn.fun)\n",
    "    funs_nn = np.array(funs_nn).reshape(-1,1)\n",
    "    times_nn = np.array(times_nn).reshape(-1,1)\n",
    "#     return x_stars, np.hstack((x_cals_nn, funs_nn, times_nn))\n",
    "    return grads\n"
   ]
  },
  {
   "cell_type": "code",
   "execution_count": 172,
   "metadata": {},
   "outputs": [],
   "source": [
    "test = calibrationSensitivity(net=narrow_net, data_type='NARROW', N=1000, M=30, seed=1234)"
   ]
  }
 ],
 "metadata": {
  "kernelspec": {
   "display_name": "Python 3",
   "language": "python",
   "name": "python3"
  },
  "language_info": {
   "codemirror_mode": {
    "name": "ipython",
    "version": 3
   },
   "file_extension": ".py",
   "mimetype": "text/x-python",
   "name": "python",
   "nbconvert_exporter": "python",
   "pygments_lexer": "ipython3",
   "version": "3.8.1"
  }
 },
 "nbformat": 4,
 "nbformat_minor": 4
}
